{
  "nbformat": 4,
  "nbformat_minor": 0,
  "metadata": {
    "colab": {
      "name": "Project 10 Exam mark prediction using LINEAR REGRESSION - MULTIPLE VALUES.ipynb",
      "provenance": []
    },
    "kernelspec": {
      "name": "python3",
      "display_name": "Python 3"
    },
    "language_info": {
      "name": "python"
    }
  },
  "cells": [
    {
      "cell_type": "markdown",
      "source": [
        "Importing Libraries"
      ],
      "metadata": {
        "id": "q7osZc0HrVPl"
      }
    },
    {
      "cell_type": "code",
      "execution_count": 1,
      "metadata": {
        "id": "1jRhqrqzqy3y"
      },
      "outputs": [],
      "source": [
        "import pandas as pd\n",
        "import numpy as np\n",
        "from sklearn.linear_model import LinearRegression\n",
        "import matplotlib.pyplot as plt\n",
        "import warnings\n",
        "warnings.filterwarnings('ignore')"
      ]
    },
    {
      "cell_type": "markdown",
      "source": [
        "Loadind the dataset"
      ],
      "metadata": {
        "id": "_Gi8uW3srsPE"
      }
    },
    {
      "cell_type": "code",
      "source": [
        "from google.colab import files\n",
        "uploaded = files.upload()"
      ],
      "metadata": {
        "colab": {
          "resources": {
            "http://localhost:8080/nbextensions/google.colab/files.js": {
              "data": "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",
              "ok": true,
              "headers": [
                [
                  "content-type",
                  "application/javascript"
                ]
              ],
              "status": 200,
              "status_text": ""
            }
          },
          "base_uri": "https://localhost:8080/",
          "height": 74
        },
        "id": "I-9F0_nHrp4u",
        "outputId": "72fe0a1d-0121-4edf-f647-94874d242d3f"
      },
      "execution_count": 3,
      "outputs": [
        {
          "output_type": "display_data",
          "data": {
            "text/plain": [
              "<IPython.core.display.HTML object>"
            ],
            "text/html": [
              "\n",
              "     <input type=\"file\" id=\"files-ed2a8a7a-db46-40a0-b2ca-1d79eceeef68\" name=\"files[]\" multiple disabled\n",
              "        style=\"border:none\" />\n",
              "     <output id=\"result-ed2a8a7a-db46-40a0-b2ca-1d79eceeef68\">\n",
              "      Upload widget is only available when the cell has been executed in the\n",
              "      current browser session. Please rerun this cell to enable.\n",
              "      </output>\n",
              "      <script src=\"/nbextensions/google.colab/files.js\"></script> "
            ]
          },
          "metadata": {}
        },
        {
          "output_type": "stream",
          "name": "stdout",
          "text": [
            "Saving data.csv to data.csv\n"
          ]
        }
      ]
    },
    {
      "cell_type": "code",
      "source": [
        "df = pd.read_csv('data.csv')"
      ],
      "metadata": {
        "id": "htEWHe8HrzZ1"
      },
      "execution_count": 4,
      "outputs": []
    },
    {
      "cell_type": "code",
      "source": [
        "df.shape"
      ],
      "metadata": {
        "colab": {
          "base_uri": "https://localhost:8080/"
        },
        "id": "Vn5WX7_0sbAa",
        "outputId": "ccbcf6e1-ae11-4e20-ef38-8b0d6cbe0a2d"
      },
      "execution_count": 5,
      "outputs": [
        {
          "output_type": "execute_result",
          "data": {
            "text/plain": [
              "(201, 4)"
            ]
          },
          "metadata": {},
          "execution_count": 5
        }
      ]
    },
    {
      "cell_type": "code",
      "source": [
        "df.head()"
      ],
      "metadata": {
        "colab": {
          "base_uri": "https://localhost:8080/",
          "height": 206
        },
        "id": "PK0BrnldsdAW",
        "outputId": "3d9a7fda-5563-440f-e19e-f930a06d0f3b"
      },
      "execution_count": 6,
      "outputs": [
        {
          "output_type": "execute_result",
          "data": {
            "text/plain": [
              "   hours  age  internet  marks\n",
              "0   6.83   15         1  78.50\n",
              "1   6.56   16         0  76.74\n",
              "2    NaN   17         1  78.68\n",
              "3   5.67   18         0  71.82\n",
              "4   8.67   19         1  84.19"
            ],
            "text/html": [
              "\n",
              "  <div id=\"df-6d74ec14-a59a-495e-a5ed-4f63af059ff4\">\n",
              "    <div class=\"colab-df-container\">\n",
              "      <div>\n",
              "<style scoped>\n",
              "    .dataframe tbody tr th:only-of-type {\n",
              "        vertical-align: middle;\n",
              "    }\n",
              "\n",
              "    .dataframe tbody tr th {\n",
              "        vertical-align: top;\n",
              "    }\n",
              "\n",
              "    .dataframe thead th {\n",
              "        text-align: right;\n",
              "    }\n",
              "</style>\n",
              "<table border=\"1\" class=\"dataframe\">\n",
              "  <thead>\n",
              "    <tr style=\"text-align: right;\">\n",
              "      <th></th>\n",
              "      <th>hours</th>\n",
              "      <th>age</th>\n",
              "      <th>internet</th>\n",
              "      <th>marks</th>\n",
              "    </tr>\n",
              "  </thead>\n",
              "  <tbody>\n",
              "    <tr>\n",
              "      <th>0</th>\n",
              "      <td>6.83</td>\n",
              "      <td>15</td>\n",
              "      <td>1</td>\n",
              "      <td>78.50</td>\n",
              "    </tr>\n",
              "    <tr>\n",
              "      <th>1</th>\n",
              "      <td>6.56</td>\n",
              "      <td>16</td>\n",
              "      <td>0</td>\n",
              "      <td>76.74</td>\n",
              "    </tr>\n",
              "    <tr>\n",
              "      <th>2</th>\n",
              "      <td>NaN</td>\n",
              "      <td>17</td>\n",
              "      <td>1</td>\n",
              "      <td>78.68</td>\n",
              "    </tr>\n",
              "    <tr>\n",
              "      <th>3</th>\n",
              "      <td>5.67</td>\n",
              "      <td>18</td>\n",
              "      <td>0</td>\n",
              "      <td>71.82</td>\n",
              "    </tr>\n",
              "    <tr>\n",
              "      <th>4</th>\n",
              "      <td>8.67</td>\n",
              "      <td>19</td>\n",
              "      <td>1</td>\n",
              "      <td>84.19</td>\n",
              "    </tr>\n",
              "  </tbody>\n",
              "</table>\n",
              "</div>\n",
              "      <button class=\"colab-df-convert\" onclick=\"convertToInteractive('df-6d74ec14-a59a-495e-a5ed-4f63af059ff4')\"\n",
              "              title=\"Convert this dataframe to an interactive table.\"\n",
              "              style=\"display:none;\">\n",
              "        \n",
              "  <svg xmlns=\"http://www.w3.org/2000/svg\" height=\"24px\"viewBox=\"0 0 24 24\"\n",
              "       width=\"24px\">\n",
              "    <path d=\"M0 0h24v24H0V0z\" fill=\"none\"/>\n",
              "    <path d=\"M18.56 5.44l.94 2.06.94-2.06 2.06-.94-2.06-.94-.94-2.06-.94 2.06-2.06.94zm-11 1L8.5 8.5l.94-2.06 2.06-.94-2.06-.94L8.5 2.5l-.94 2.06-2.06.94zm10 10l.94 2.06.94-2.06 2.06-.94-2.06-.94-.94-2.06-.94 2.06-2.06.94z\"/><path d=\"M17.41 7.96l-1.37-1.37c-.4-.4-.92-.59-1.43-.59-.52 0-1.04.2-1.43.59L10.3 9.45l-7.72 7.72c-.78.78-.78 2.05 0 2.83L4 21.41c.39.39.9.59 1.41.59.51 0 1.02-.2 1.41-.59l7.78-7.78 2.81-2.81c.8-.78.8-2.07 0-2.86zM5.41 20L4 18.59l7.72-7.72 1.47 1.35L5.41 20z\"/>\n",
              "  </svg>\n",
              "      </button>\n",
              "      \n",
              "  <style>\n",
              "    .colab-df-container {\n",
              "      display:flex;\n",
              "      flex-wrap:wrap;\n",
              "      gap: 12px;\n",
              "    }\n",
              "\n",
              "    .colab-df-convert {\n",
              "      background-color: #E8F0FE;\n",
              "      border: none;\n",
              "      border-radius: 50%;\n",
              "      cursor: pointer;\n",
              "      display: none;\n",
              "      fill: #1967D2;\n",
              "      height: 32px;\n",
              "      padding: 0 0 0 0;\n",
              "      width: 32px;\n",
              "    }\n",
              "\n",
              "    .colab-df-convert:hover {\n",
              "      background-color: #E2EBFA;\n",
              "      box-shadow: 0px 1px 2px rgba(60, 64, 67, 0.3), 0px 1px 3px 1px rgba(60, 64, 67, 0.15);\n",
              "      fill: #174EA6;\n",
              "    }\n",
              "\n",
              "    [theme=dark] .colab-df-convert {\n",
              "      background-color: #3B4455;\n",
              "      fill: #D2E3FC;\n",
              "    }\n",
              "\n",
              "    [theme=dark] .colab-df-convert:hover {\n",
              "      background-color: #434B5C;\n",
              "      box-shadow: 0px 1px 3px 1px rgba(0, 0, 0, 0.15);\n",
              "      filter: drop-shadow(0px 1px 2px rgba(0, 0, 0, 0.3));\n",
              "      fill: #FFFFFF;\n",
              "    }\n",
              "  </style>\n",
              "\n",
              "      <script>\n",
              "        const buttonEl =\n",
              "          document.querySelector('#df-6d74ec14-a59a-495e-a5ed-4f63af059ff4 button.colab-df-convert');\n",
              "        buttonEl.style.display =\n",
              "          google.colab.kernel.accessAllowed ? 'block' : 'none';\n",
              "\n",
              "        async function convertToInteractive(key) {\n",
              "          const element = document.querySelector('#df-6d74ec14-a59a-495e-a5ed-4f63af059ff4');\n",
              "          const dataTable =\n",
              "            await google.colab.kernel.invokeFunction('convertToInteractive',\n",
              "                                                     [key], {});\n",
              "          if (!dataTable) return;\n",
              "\n",
              "          const docLinkHtml = 'Like what you see? Visit the ' +\n",
              "            '<a target=\"_blank\" href=https://colab.research.google.com/notebooks/data_table.ipynb>data table notebook</a>'\n",
              "            + ' to learn more about interactive tables.';\n",
              "          element.innerHTML = '';\n",
              "          dataTable['output_type'] = 'display_data';\n",
              "          await google.colab.output.renderOutput(dataTable, element);\n",
              "          const docLink = document.createElement('div');\n",
              "          docLink.innerHTML = docLinkHtml;\n",
              "          element.appendChild(docLink);\n",
              "        }\n",
              "      </script>\n",
              "    </div>\n",
              "  </div>\n",
              "  "
            ]
          },
          "metadata": {},
          "execution_count": 6
        }
      ]
    },
    {
      "cell_type": "code",
      "source": [
        "df.info()"
      ],
      "metadata": {
        "colab": {
          "base_uri": "https://localhost:8080/"
        },
        "id": "EguvwpbdsftW",
        "outputId": "1b028630-6b40-4fa0-c675-8fba0e692224"
      },
      "execution_count": 7,
      "outputs": [
        {
          "output_type": "stream",
          "name": "stdout",
          "text": [
            "<class 'pandas.core.frame.DataFrame'>\n",
            "RangeIndex: 201 entries, 0 to 200\n",
            "Data columns (total 4 columns):\n",
            " #   Column    Non-Null Count  Dtype  \n",
            "---  ------    --------------  -----  \n",
            " 0   hours     196 non-null    float64\n",
            " 1   age       201 non-null    int64  \n",
            " 2   internet  201 non-null    int64  \n",
            " 3   marks     201 non-null    float64\n",
            "dtypes: float64(2), int64(2)\n",
            "memory usage: 6.4 KB\n"
          ]
        }
      ]
    },
    {
      "cell_type": "code",
      "source": [
        "df.describe().T"
      ],
      "metadata": {
        "colab": {
          "base_uri": "https://localhost:8080/",
          "height": 175
        },
        "id": "holUzNefsjQY",
        "outputId": "38fcfece-6055-4651-d178-223ebf952a0d"
      },
      "execution_count": 8,
      "outputs": [
        {
          "output_type": "execute_result",
          "data": {
            "text/plain": [
              "          count       mean       std    min      25%    50%      75%    max\n",
              "hours     196.0   6.981429  1.266266   4.15   5.7575   7.11   8.0825   8.99\n",
              "age       201.0  17.467662  1.720523  15.00  16.0000  17.00  19.0000  20.00\n",
              "internet  201.0   0.552239  0.498505   0.00   0.0000   1.00   1.0000   1.00\n",
              "marks     201.0  77.951244  4.919626  68.57  73.4000  77.77  82.3000  86.99"
            ],
            "text/html": [
              "\n",
              "  <div id=\"df-faf48b79-bc36-43b8-a109-4c8a30638f16\">\n",
              "    <div class=\"colab-df-container\">\n",
              "      <div>\n",
              "<style scoped>\n",
              "    .dataframe tbody tr th:only-of-type {\n",
              "        vertical-align: middle;\n",
              "    }\n",
              "\n",
              "    .dataframe tbody tr th {\n",
              "        vertical-align: top;\n",
              "    }\n",
              "\n",
              "    .dataframe thead th {\n",
              "        text-align: right;\n",
              "    }\n",
              "</style>\n",
              "<table border=\"1\" class=\"dataframe\">\n",
              "  <thead>\n",
              "    <tr style=\"text-align: right;\">\n",
              "      <th></th>\n",
              "      <th>count</th>\n",
              "      <th>mean</th>\n",
              "      <th>std</th>\n",
              "      <th>min</th>\n",
              "      <th>25%</th>\n",
              "      <th>50%</th>\n",
              "      <th>75%</th>\n",
              "      <th>max</th>\n",
              "    </tr>\n",
              "  </thead>\n",
              "  <tbody>\n",
              "    <tr>\n",
              "      <th>hours</th>\n",
              "      <td>196.0</td>\n",
              "      <td>6.981429</td>\n",
              "      <td>1.266266</td>\n",
              "      <td>4.15</td>\n",
              "      <td>5.7575</td>\n",
              "      <td>7.11</td>\n",
              "      <td>8.0825</td>\n",
              "      <td>8.99</td>\n",
              "    </tr>\n",
              "    <tr>\n",
              "      <th>age</th>\n",
              "      <td>201.0</td>\n",
              "      <td>17.467662</td>\n",
              "      <td>1.720523</td>\n",
              "      <td>15.00</td>\n",
              "      <td>16.0000</td>\n",
              "      <td>17.00</td>\n",
              "      <td>19.0000</td>\n",
              "      <td>20.00</td>\n",
              "    </tr>\n",
              "    <tr>\n",
              "      <th>internet</th>\n",
              "      <td>201.0</td>\n",
              "      <td>0.552239</td>\n",
              "      <td>0.498505</td>\n",
              "      <td>0.00</td>\n",
              "      <td>0.0000</td>\n",
              "      <td>1.00</td>\n",
              "      <td>1.0000</td>\n",
              "      <td>1.00</td>\n",
              "    </tr>\n",
              "    <tr>\n",
              "      <th>marks</th>\n",
              "      <td>201.0</td>\n",
              "      <td>77.951244</td>\n",
              "      <td>4.919626</td>\n",
              "      <td>68.57</td>\n",
              "      <td>73.4000</td>\n",
              "      <td>77.77</td>\n",
              "      <td>82.3000</td>\n",
              "      <td>86.99</td>\n",
              "    </tr>\n",
              "  </tbody>\n",
              "</table>\n",
              "</div>\n",
              "      <button class=\"colab-df-convert\" onclick=\"convertToInteractive('df-faf48b79-bc36-43b8-a109-4c8a30638f16')\"\n",
              "              title=\"Convert this dataframe to an interactive table.\"\n",
              "              style=\"display:none;\">\n",
              "        \n",
              "  <svg xmlns=\"http://www.w3.org/2000/svg\" height=\"24px\"viewBox=\"0 0 24 24\"\n",
              "       width=\"24px\">\n",
              "    <path d=\"M0 0h24v24H0V0z\" fill=\"none\"/>\n",
              "    <path d=\"M18.56 5.44l.94 2.06.94-2.06 2.06-.94-2.06-.94-.94-2.06-.94 2.06-2.06.94zm-11 1L8.5 8.5l.94-2.06 2.06-.94-2.06-.94L8.5 2.5l-.94 2.06-2.06.94zm10 10l.94 2.06.94-2.06 2.06-.94-2.06-.94-.94-2.06-.94 2.06-2.06.94z\"/><path d=\"M17.41 7.96l-1.37-1.37c-.4-.4-.92-.59-1.43-.59-.52 0-1.04.2-1.43.59L10.3 9.45l-7.72 7.72c-.78.78-.78 2.05 0 2.83L4 21.41c.39.39.9.59 1.41.59.51 0 1.02-.2 1.41-.59l7.78-7.78 2.81-2.81c.8-.78.8-2.07 0-2.86zM5.41 20L4 18.59l7.72-7.72 1.47 1.35L5.41 20z\"/>\n",
              "  </svg>\n",
              "      </button>\n",
              "      \n",
              "  <style>\n",
              "    .colab-df-container {\n",
              "      display:flex;\n",
              "      flex-wrap:wrap;\n",
              "      gap: 12px;\n",
              "    }\n",
              "\n",
              "    .colab-df-convert {\n",
              "      background-color: #E8F0FE;\n",
              "      border: none;\n",
              "      border-radius: 50%;\n",
              "      cursor: pointer;\n",
              "      display: none;\n",
              "      fill: #1967D2;\n",
              "      height: 32px;\n",
              "      padding: 0 0 0 0;\n",
              "      width: 32px;\n",
              "    }\n",
              "\n",
              "    .colab-df-convert:hover {\n",
              "      background-color: #E2EBFA;\n",
              "      box-shadow: 0px 1px 2px rgba(60, 64, 67, 0.3), 0px 1px 3px 1px rgba(60, 64, 67, 0.15);\n",
              "      fill: #174EA6;\n",
              "    }\n",
              "\n",
              "    [theme=dark] .colab-df-convert {\n",
              "      background-color: #3B4455;\n",
              "      fill: #D2E3FC;\n",
              "    }\n",
              "\n",
              "    [theme=dark] .colab-df-convert:hover {\n",
              "      background-color: #434B5C;\n",
              "      box-shadow: 0px 1px 3px 1px rgba(0, 0, 0, 0.15);\n",
              "      filter: drop-shadow(0px 1px 2px rgba(0, 0, 0, 0.3));\n",
              "      fill: #FFFFFF;\n",
              "    }\n",
              "  </style>\n",
              "\n",
              "      <script>\n",
              "        const buttonEl =\n",
              "          document.querySelector('#df-faf48b79-bc36-43b8-a109-4c8a30638f16 button.colab-df-convert');\n",
              "        buttonEl.style.display =\n",
              "          google.colab.kernel.accessAllowed ? 'block' : 'none';\n",
              "\n",
              "        async function convertToInteractive(key) {\n",
              "          const element = document.querySelector('#df-faf48b79-bc36-43b8-a109-4c8a30638f16');\n",
              "          const dataTable =\n",
              "            await google.colab.kernel.invokeFunction('convertToInteractive',\n",
              "                                                     [key], {});\n",
              "          if (!dataTable) return;\n",
              "\n",
              "          const docLinkHtml = 'Like what you see? Visit the ' +\n",
              "            '<a target=\"_blank\" href=https://colab.research.google.com/notebooks/data_table.ipynb>data table notebook</a>'\n",
              "            + ' to learn more about interactive tables.';\n",
              "          element.innerHTML = '';\n",
              "          dataTable['output_type'] = 'display_data';\n",
              "          await google.colab.output.renderOutput(dataTable, element);\n",
              "          const docLink = document.createElement('div');\n",
              "          docLink.innerHTML = docLinkHtml;\n",
              "          element.appendChild(docLink);\n",
              "        }\n",
              "      </script>\n",
              "    </div>\n",
              "  </div>\n",
              "  "
            ]
          },
          "metadata": {},
          "execution_count": 8
        }
      ]
    },
    {
      "cell_type": "markdown",
      "source": [
        "Finding and Removing NaN values"
      ],
      "metadata": {
        "id": "hUWuMH7ZtUoP"
      }
    },
    {
      "cell_type": "code",
      "source": [
        "df.columns[df.isna().any()]"
      ],
      "metadata": {
        "colab": {
          "base_uri": "https://localhost:8080/"
        },
        "id": "Nx2xx1YwtaDu",
        "outputId": "87a10246-5464-475f-d713-1a892652201f"
      },
      "execution_count": 11,
      "outputs": [
        {
          "output_type": "execute_result",
          "data": {
            "text/plain": [
              "Index(['hours'], dtype='object')"
            ]
          },
          "metadata": {},
          "execution_count": 11
        }
      ]
    },
    {
      "cell_type": "code",
      "source": [
        "df.hours = df.hours.fillna(df.hours.mean())"
      ],
      "metadata": {
        "id": "p7-fPpsXtq3u"
      },
      "execution_count": 12,
      "outputs": []
    },
    {
      "cell_type": "code",
      "source": [
        "df.columns[df.isna().any()]"
      ],
      "metadata": {
        "colab": {
          "base_uri": "https://localhost:8080/"
        },
        "id": "pm3J7DRat2M3",
        "outputId": "ec9e42f2-1301-4f67-8589-1559fe139ba3"
      },
      "execution_count": 13,
      "outputs": [
        {
          "output_type": "execute_result",
          "data": {
            "text/plain": [
              "Index([], dtype='object')"
            ]
          },
          "metadata": {},
          "execution_count": 13
        }
      ]
    },
    {
      "cell_type": "markdown",
      "source": [
        "Data Visualization"
      ],
      "metadata": {
        "id": "9N5-453gsq5m"
      }
    },
    {
      "cell_type": "code",
      "source": [
        "plt.xlabel('hours')\n",
        "plt.ylabel('marks')\n",
        "plt.scatter(df.hours, df.marks, color='red',marker='o')"
      ],
      "metadata": {
        "colab": {
          "base_uri": "https://localhost:8080/",
          "height": 296
        },
        "id": "OyXzs97usoZ7",
        "outputId": "bfedcd21-1d70-4837-b804-62677e877d8c"
      },
      "execution_count": 14,
      "outputs": [
        {
          "output_type": "execute_result",
          "data": {
            "text/plain": [
              "<matplotlib.collections.PathCollection at 0x7fdcdefb7b90>"
            ]
          },
          "metadata": {},
          "execution_count": 14
        },
        {
          "output_type": "display_data",
          "data": {
            "text/plain": [
              "<Figure size 432x288 with 1 Axes>"
            ],
            "image/png": "[encoded data removed]"
          },
          "metadata": {
            "needs_background": "light"
          }
        }
      ]
    },
    {
      "cell_type": "markdown",
      "source": [
        "Segregating Dataset into X and Y"
      ],
      "metadata": {
        "id": "hfHkD-Ect-D_"
      }
    },
    {
      "cell_type": "code",
      "source": [
        "X = df.iloc[:, :-1].values\n",
        "print(X.shape)\n",
        "X"
      ],
      "metadata": {
        "colab": {
          "base_uri": "https://localhost:8080/"
        },
        "id": "xdlNZwfItIQy",
        "outputId": "0beb42dc-b31e-4357-e515-eeba9878dc5c"
      },
      "execution_count": 17,
      "outputs": [
        {
          "output_type": "stream",
          "name": "stdout",
          "text": [
            "(201, 3)\n"
          ]
        },
        {
          "output_type": "execute_result",
          "data": {
            "text/plain": [
              "array([[ 6.83      , 15.        ,  1.        ],\n",
              "       [ 6.56      , 16.        ,  0.        ],\n",
              "       [ 6.98142857, 17.        ,  1.        ],\n",
              "       [ 5.67      , 18.        ,  0.        ],\n",
              "       [ 8.67      , 19.        ,  1.        ],\n",
              "       [ 7.55      , 20.        ,  0.        ],\n",
              "       [ 6.67      , 15.        ,  0.        ],\n",
              "       [ 8.99      , 16.        ,  0.        ],\n",
              "       [ 5.19      , 17.        ,  1.        ],\n",
              "       [ 6.75      , 18.        ,  0.        ],\n",
              "       [ 6.59      , 19.        ,  0.        ],\n",
              "       [ 8.56      , 20.        ,  1.        ],\n",
              "       [ 7.75      , 15.        ,  0.        ],\n",
              "       [ 7.9       , 16.        ,  1.        ],\n",
              "       [ 8.19      , 17.        ,  0.        ],\n",
              "       [ 6.55      , 18.        ,  1.        ],\n",
              "       [ 6.36      , 19.        ,  0.        ],\n",
              "       [ 8.44      , 20.        ,  1.        ],\n",
              "       [ 8.41      , 15.        ,  0.        ],\n",
              "       [ 7.67      , 16.        ,  1.        ],\n",
              "       [ 7.42      , 17.        ,  1.        ],\n",
              "       [ 8.16      , 18.        ,  1.        ],\n",
              "       [ 5.05      , 19.        ,  1.        ],\n",
              "       [ 5.85      , 20.        ,  1.        ],\n",
              "       [ 5.45      , 15.        ,  0.        ],\n",
              "       [ 7.96      , 16.        ,  0.        ],\n",
              "       [ 6.51      , 17.        ,  0.        ],\n",
              "       [ 6.73      , 18.        ,  0.        ],\n",
              "       [ 5.94      , 19.        ,  1.        ],\n",
              "       [ 7.48      , 20.        ,  0.        ],\n",
              "       [ 8.13      , 15.        ,  1.        ],\n",
              "       [ 6.98142857, 16.        ,  1.        ],\n",
              "       [ 5.4       , 17.        ,  1.        ],\n",
              "       [ 8.78      , 18.        ,  0.        ],\n",
              "       [ 8.72      , 19.        ,  1.        ],\n",
              "       [ 7.1       , 20.        ,  0.        ],\n",
              "       [ 7.86      , 15.        ,  1.        ],\n",
              "       [ 7.19      , 16.        ,  0.        ],\n",
              "       [ 5.62      , 17.        ,  1.        ],\n",
              "       [ 7.88      , 18.        ,  0.        ],\n",
              "       [ 5.28      , 19.        ,  1.        ],\n",
              "       [ 8.92      , 20.        ,  1.        ],\n",
              "       [ 5.46      , 15.        ,  0.        ],\n",
              "       [ 8.3       , 16.        ,  1.        ],\n",
              "       [ 8.09      , 17.        ,  0.        ],\n",
              "       [ 6.18      , 18.        ,  1.        ],\n",
              "       [ 7.01      , 19.        ,  1.        ],\n",
              "       [ 5.01      , 20.        ,  0.        ],\n",
              "       [ 5.54      , 15.        ,  1.        ],\n",
              "       [ 5.09      , 16.        ,  1.        ],\n",
              "       [ 5.09      , 17.        ,  0.        ],\n",
              "       [ 7.31      , 18.        ,  1.        ],\n",
              "       [ 8.71      , 19.        ,  0.        ],\n",
              "       [ 5.52      , 20.        ,  1.        ],\n",
              "       [ 8.76      , 15.        ,  0.        ],\n",
              "       [ 8.69      , 16.        ,  1.        ],\n",
              "       [ 5.75      , 17.        ,  1.        ],\n",
              "       [ 8.93      , 18.        ,  1.        ],\n",
              "       [ 5.39      , 19.        ,  1.        ],\n",
              "       [ 5.65      , 20.        ,  0.        ],\n",
              "       [ 5.49      , 15.        ,  1.        ],\n",
              "       [ 7.26      , 16.        ,  1.        ],\n",
              "       [ 6.35      , 17.        ,  0.        ],\n",
              "       [ 7.72      , 18.        ,  1.        ],\n",
              "       [ 8.88      , 19.        ,  0.        ],\n",
              "       [ 5.45      , 20.        ,  1.        ],\n",
              "       [ 7.86      , 15.        ,  1.        ],\n",
              "       [ 8.26      , 16.        ,  0.        ],\n",
              "       [ 5.07      , 17.        ,  1.        ],\n",
              "       [ 8.25      , 18.        ,  0.        ],\n",
              "       [ 5.37      , 19.        ,  1.        ],\n",
              "       [ 5.11      , 20.        ,  1.        ],\n",
              "       [ 6.35      , 15.        ,  0.        ],\n",
              "       [ 7.41      , 16.        ,  1.        ],\n",
              "       [ 7.31      , 17.        ,  0.        ],\n",
              "       [ 6.04      , 18.        ,  1.        ],\n",
              "       [ 5.11      , 19.        ,  1.        ],\n",
              "       [ 6.56      , 20.        ,  0.        ],\n",
              "       [ 5.09      , 15.        ,  1.        ],\n",
              "       [ 5.88      , 16.        ,  0.        ],\n",
              "       [ 8.34      , 17.        ,  1.        ],\n",
              "       [ 7.94      , 18.        ,  0.        ],\n",
              "       [ 6.66      , 19.        ,  1.        ],\n",
              "       [ 6.01      , 20.        ,  1.        ],\n",
              "       [ 6.88      , 15.        ,  0.        ],\n",
              "       [ 5.63      , 16.        ,  1.        ],\n",
              "       [ 5.88      , 17.        ,  0.        ],\n",
              "       [ 8.05      , 18.        ,  1.        ],\n",
              "       [ 5.33      , 19.        ,  0.        ],\n",
              "       [ 8.79      , 20.        ,  0.        ],\n",
              "       [ 7.52      , 15.        ,  1.        ],\n",
              "       [ 8.2       , 16.        ,  0.        ],\n",
              "       [ 5.44      , 17.        ,  1.        ],\n",
              "       [ 7.9       , 18.        ,  0.        ],\n",
              "       [ 7.69      , 19.        ,  1.        ],\n",
              "       [ 6.09      , 20.        ,  0.        ],\n",
              "       [ 6.98142857, 15.        ,  1.        ],\n",
              "       [ 5.2       , 16.        ,  1.        ],\n",
              "       [ 8.88      , 17.        ,  0.        ],\n",
              "       [ 8.07      , 18.        ,  1.        ],\n",
              "       [ 6.24      , 19.        ,  1.        ],\n",
              "       [ 7.95      , 20.        ,  0.        ],\n",
              "       [ 8.26      , 15.        ,  0.        ],\n",
              "       [ 7.31      , 16.        ,  1.        ],\n",
              "       [ 7.23      , 17.        ,  1.        ],\n",
              "       [ 6.46      , 18.        ,  1.        ],\n",
              "       [ 5.34      , 19.        ,  1.        ],\n",
              "       [ 5.72      , 20.        ,  1.        ],\n",
              "       [ 5.84      , 15.        ,  0.        ],\n",
              "       [ 5.02      , 16.        ,  1.        ],\n",
              "       [ 7.98      , 17.        ,  0.        ],\n",
              "       [ 6.37      , 18.        ,  1.        ],\n",
              "       [ 6.92      , 19.        ,  0.        ],\n",
              "       [ 7.95      , 20.        ,  1.        ],\n",
              "       [ 7.12      , 15.        ,  0.        ],\n",
              "       [ 5.79      , 16.        ,  1.        ],\n",
              "       [ 5.4       , 17.        ,  0.        ],\n",
              "       [ 8.83      , 18.        ,  1.        ],\n",
              "       [ 5.69      , 19.        ,  0.        ],\n",
              "       [ 6.6       , 20.        ,  1.        ],\n",
              "       [ 6.52      , 15.        ,  0.        ],\n",
              "       [ 8.31      , 16.        ,  0.        ],\n",
              "       [ 6.98142857, 17.        ,  1.        ],\n",
              "       [ 7.62      , 18.        ,  0.        ],\n",
              "       [ 8.69      , 19.        ,  1.        ],\n",
              "       [ 8.75      , 20.        ,  0.        ],\n",
              "       [ 6.46      , 15.        ,  1.        ],\n",
              "       [ 7.14      , 16.        ,  1.        ],\n",
              "       [ 6.38      , 17.        ,  0.        ],\n",
              "       [ 6.33      , 18.        ,  1.        ],\n",
              "       [ 5.64      , 19.        ,  0.        ],\n",
              "       [ 5.26      , 20.        ,  1.        ],\n",
              "       [ 6.83      , 15.        ,  1.        ],\n",
              "       [ 5.76      , 16.        ,  0.        ],\n",
              "       [ 6.51      , 17.        ,  1.        ],\n",
              "       [ 8.33      , 18.        ,  0.        ],\n",
              "       [ 8.16      , 19.        ,  1.        ],\n",
              "       [ 5.14      , 20.        ,  0.        ],\n",
              "       [ 8.71      , 15.        ,  0.        ],\n",
              "       [ 8.6       , 16.        ,  1.        ],\n",
              "       [ 8.6       , 17.        ,  0.        ],\n",
              "       [ 7.43      , 18.        ,  1.        ],\n",
              "       [ 7.81      , 19.        ,  1.        ],\n",
              "       [ 6.51      , 20.        ,  0.        ],\n",
              "       [ 8.11      , 15.        ,  1.        ],\n",
              "       [ 8.95      , 16.        ,  0.        ],\n",
              "       [ 7.99      , 17.        ,  1.        ],\n",
              "       [ 5.92      , 18.        ,  0.        ],\n",
              "       [ 8.3       , 19.        ,  1.        ],\n",
              "       [ 8.97      , 20.        ,  0.        ],\n",
              "       [ 5.39      , 15.        ,  0.        ],\n",
              "       [ 6.77      , 16.        ,  0.        ],\n",
              "       [ 8.08      , 17.        ,  1.        ],\n",
              "       [ 5.24      , 18.        ,  0.        ],\n",
              "       [ 6.93      , 19.        ,  1.        ],\n",
              "       [ 5.14      , 20.        ,  0.        ],\n",
              "       [ 8.39      , 15.        ,  1.        ],\n",
              "       [ 6.18      , 16.        ,  0.        ],\n",
              "       [ 7.53      , 17.        ,  1.        ],\n",
              "       [ 7.86      , 18.        ,  0.        ],\n",
              "       [ 7.7       , 19.        ,  1.        ],\n",
              "       [ 7.3       , 20.        ,  0.        ],\n",
              "       [ 7.79      , 15.        ,  1.        ],\n",
              "       [ 6.75      , 16.        ,  0.        ],\n",
              "       [ 7.87      , 17.        ,  1.        ],\n",
              "       [ 5.38      , 18.        ,  0.        ],\n",
              "       [ 7.8       , 19.        ,  1.        ],\n",
              "       [ 5.07      , 20.        ,  0.        ],\n",
              "       [ 7.95      , 15.        ,  1.        ],\n",
              "       [ 8.35      , 16.        ,  0.        ],\n",
              "       [ 5.19      , 17.        ,  0.        ],\n",
              "       [ 7.19      , 18.        ,  0.        ],\n",
              "       [ 7.35      , 19.        ,  1.        ],\n",
              "       [ 5.22      , 20.        ,  1.        ],\n",
              "       [ 5.39      , 15.        ,  1.        ],\n",
              "       [ 5.39      , 16.        ,  1.        ],\n",
              "       [ 8.93      , 17.        ,  1.        ],\n",
              "       [ 5.79      , 18.        ,  0.        ],\n",
              "       [ 8.42      , 19.        ,  1.        ],\n",
              "       [ 7.26      , 20.        ,  0.        ],\n",
              "       [ 6.97      , 15.        ,  1.        ],\n",
              "       [ 5.55      , 16.        ,  1.        ],\n",
              "       [ 8.66      , 17.        ,  0.        ],\n",
              "       [ 8.61      , 18.        ,  1.        ],\n",
              "       [ 5.22      , 19.        ,  1.        ],\n",
              "       [ 8.05      , 20.        ,  0.        ],\n",
              "       [ 8.87      , 15.        ,  1.        ],\n",
              "       [ 5.54      , 16.        ,  0.        ],\n",
              "       [ 6.98142857, 17.        ,  0.        ],\n",
              "       [ 7.26      , 18.        ,  1.        ],\n",
              "       [ 5.79      , 19.        ,  0.        ],\n",
              "       [ 5.22      , 20.        ,  0.        ],\n",
              "       [ 8.71      , 15.        ,  1.        ],\n",
              "       [ 7.55      , 16.        ,  1.        ],\n",
              "       [ 6.35      , 17.        ,  1.        ],\n",
              "       [ 7.53      , 18.        ,  0.        ],\n",
              "       [ 8.56      , 19.        ,  1.        ],\n",
              "       [ 8.94      , 20.        ,  1.        ],\n",
              "       [ 6.6       , 15.        ,  1.        ],\n",
              "       [ 8.35      , 16.        ,  1.        ],\n",
              "       [ 4.15      , 15.        ,  0.        ]])"
            ]
          },
          "metadata": {},
          "execution_count": 17
        }
      ]
    },
    {
      "cell_type": "code",
      "source": [
        "y = df.iloc[:, -1].values\n",
        "y"
      ],
      "metadata": {
        "colab": {
          "base_uri": "https://localhost:8080/"
        },
        "id": "JhRUEHEQviSX",
        "outputId": "f83a23c8-1579-4add-a976-d642119f3441"
      },
      "execution_count": 18,
      "outputs": [
        {
          "output_type": "execute_result",
          "data": {
            "text/plain": [
              "array([78.5 , 76.74, 78.68, 71.82, 84.19, 81.18, 76.99, 85.46, 70.66,\n",
              "       77.82, 75.37, 83.88, 79.5 , 80.76, 83.08, 76.03, 76.04, 85.11,\n",
              "       82.5 , 80.58, 82.18, 83.36, 70.67, 75.02, 70.96, 83.33, 74.75,\n",
              "       75.65, 74.15, 80.17, 82.27, 76.14, 71.1 , 84.35, 83.08, 76.76,\n",
              "       81.24, 78.21, 73.08, 83.23, 70.27, 86.41, 71.1 , 82.84, 82.38,\n",
              "       72.96, 77.46, 70.11, 72.38, 71.41, 72.22, 77.77, 84.44, 71.45,\n",
              "       82.21, 85.48, 75.03, 86.65, 70.9 , 71.7 , 73.61, 79.41, 76.19,\n",
              "       80.43, 85.78, 70.06, 81.25, 81.7 , 69.27, 82.79, 71.8 , 71.79,\n",
              "       74.97, 78.61, 77.59, 72.33, 72.08, 77.33, 70.05, 73.34, 84.  ,\n",
              "       82.93, 76.63, 75.36, 77.29, 72.87, 73.4 , 81.74, 71.85, 84.6 ,\n",
              "       79.56, 82.1 , 72.08, 79.1 , 81.01, 76.48, 75.39, 68.57, 83.64,\n",
              "       82.3 , 75.18, 82.03, 82.99, 79.26, 77.55, 77.07, 72.1 , 73.25,\n",
              "       74.25, 70.58, 81.08, 75.04, 76.38, 80.86, 78.42, 74.44, 70.34,\n",
              "       85.04, 73.61, 75.55, 76.2 , 82.69, 76.83, 79.53, 83.57, 85.95,\n",
              "       76.02, 77.65, 77.01, 74.49, 73.19, 71.86, 75.8 , 72.46, 78.39,\n",
              "       83.48, 83.15, 71.22, 85.98, 83.91, 84.58, 80.31, 82.55, 75.52,\n",
              "       83.82, 85.15, 82.75, 74.34, 82.02, 86.12, 71.87, 76.7 , 81.7 ,\n",
              "       70.78, 78.45, 70.2 , 83.37, 75.52, 81.57, 80.72, 80.81, 79.49,\n",
              "       79.17, 77.07, 82.04, 71.94, 81.6 , 70.79, 82.68, 83.08, 71.18,\n",
              "       77.63, 77.78, 70.4 , 73.02, 71.11, 85.96, 73.64, 84.24, 78.17,\n",
              "       77.19, 71.83, 86.99, 83.87, 71.5 , 79.63, 85.1 , 72.01, 77.27,\n",
              "       79.87, 73.14, 70.51, 84.03, 79.64, 74.24, 81.67, 84.68, 86.75,\n",
              "       78.05, 83.5 , 81.45])"
            ]
          },
          "metadata": {},
          "execution_count": 18
        }
      ]
    },
    {
      "cell_type": "markdown",
      "source": [
        "Training the data"
      ],
      "metadata": {
        "id": "R7TTWSOUxRtO"
      }
    },
    {
      "cell_type": "code",
      "source": [
        "model = LinearRegression()\n",
        "model.fit(X,y)"
      ],
      "metadata": {
        "colab": {
          "base_uri": "https://localhost:8080/"
        },
        "id": "BSwdJu3_xME6",
        "outputId": "6477e5a1-b67e-42d0-ba5e-7d1093f32305"
      },
      "execution_count": 21,
      "outputs": [
        {
          "output_type": "execute_result",
          "data": {
            "text/plain": [
              "LinearRegression()"
            ]
          },
          "metadata": {},
          "execution_count": 21
        }
      ]
    },
    {
      "cell_type": "markdown",
      "source": [
        "Prediction "
      ],
      "metadata": {
        "id": "msUYiD9IxLhU"
      }
    },
    {
      "cell_type": "code",
      "source": [
        "features = [[8.67,19,1]]\n",
        "prediction = model.predict(features)\n",
        "print(prediction)"
      ],
      "metadata": {
        "colab": {
          "base_uri": "https://localhost:8080/"
        },
        "id": "xmJkCwfFwB-y",
        "outputId": "97943132-20fb-4f16-ede9-c3611d3f93d9"
      },
      "execution_count": 22,
      "outputs": [
        {
          "output_type": "stream",
          "name": "stdout",
          "text": [
            "[84.25087518]\n"
          ]
        }
      ]
    },
    {
      "cell_type": "code",
      "source": [
        ""
      ],
      "metadata": {
        "id": "_rPmYdKDyLlF"
      },
      "execution_count": null,
      "outputs": []
    }
  ]
}